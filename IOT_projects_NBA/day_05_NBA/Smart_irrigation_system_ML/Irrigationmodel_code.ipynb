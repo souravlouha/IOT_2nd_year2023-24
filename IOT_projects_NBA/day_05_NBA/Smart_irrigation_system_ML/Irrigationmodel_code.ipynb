{
 "cells": [
  {
   "cell_type": "code",
   "execution_count": 25,
   "id": "bba5e984",
   "metadata": {},
   "outputs": [
    {
     "data": {
      "text/html": [
       "<div>\n",
       "<style scoped>\n",
       "    .dataframe tbody tr th:only-of-type {\n",
       "        vertical-align: middle;\n",
       "    }\n",
       "\n",
       "    .dataframe tbody tr th {\n",
       "        vertical-align: top;\n",
       "    }\n",
       "\n",
       "    .dataframe thead th {\n",
       "        text-align: right;\n",
       "    }\n",
       "</style>\n",
       "<table border=\"1\" class=\"dataframe\">\n",
       "  <thead>\n",
       "    <tr style=\"text-align: right;\">\n",
       "      <th></th>\n",
       "      <th>crop</th>\n",
       "      <th>moisture</th>\n",
       "      <th>temp</th>\n",
       "      <th>pump</th>\n",
       "    </tr>\n",
       "  </thead>\n",
       "  <tbody>\n",
       "    <tr>\n",
       "      <th>0</th>\n",
       "      <td>cotton</td>\n",
       "      <td>638</td>\n",
       "      <td>16</td>\n",
       "      <td>1</td>\n",
       "    </tr>\n",
       "    <tr>\n",
       "      <th>1</th>\n",
       "      <td>cotton</td>\n",
       "      <td>522</td>\n",
       "      <td>18</td>\n",
       "      <td>1</td>\n",
       "    </tr>\n",
       "    <tr>\n",
       "      <th>2</th>\n",
       "      <td>cotton</td>\n",
       "      <td>741</td>\n",
       "      <td>22</td>\n",
       "      <td>1</td>\n",
       "    </tr>\n",
       "    <tr>\n",
       "      <th>3</th>\n",
       "      <td>cotton</td>\n",
       "      <td>798</td>\n",
       "      <td>32</td>\n",
       "      <td>1</td>\n",
       "    </tr>\n",
       "    <tr>\n",
       "      <th>4</th>\n",
       "      <td>cotton</td>\n",
       "      <td>690</td>\n",
       "      <td>28</td>\n",
       "      <td>1</td>\n",
       "    </tr>\n",
       "  </tbody>\n",
       "</table>\n",
       "</div>"
      ],
      "text/plain": [
       "     crop  moisture  temp  pump\n",
       "0  cotton       638    16     1\n",
       "1  cotton       522    18     1\n",
       "2  cotton       741    22     1\n",
       "3  cotton       798    32     1\n",
       "4  cotton       690    28     1"
      ]
     },
     "execution_count": 25,
     "metadata": {},
     "output_type": "execute_result"
    }
   ],
   "source": [
    "import pandas as pd\n",
    "df=pd.read_csv('data.csv')\n",
    "df.head(5)"
   ]
  },
  {
   "cell_type": "code",
   "execution_count": 26,
   "id": "78afca62",
   "metadata": {},
   "outputs": [
    {
     "data": {
      "text/plain": [
       "array([[ 638,   16],\n",
       "       [ 522,   18],\n",
       "       [ 741,   22],\n",
       "       [ 798,   32],\n",
       "       [ 690,   28],\n",
       "       [ 558,   23],\n",
       "       [ 578,   12],\n",
       "       [ 673,   35],\n",
       "       [ 642,   45],\n",
       "       [ 723,   11],\n",
       "       [ 671,   23],\n",
       "       [ 758,   34],\n",
       "       [ 507,   45],\n",
       "       [ 586,   33],\n",
       "       [ 703,   45],\n",
       "       [ 716,   25],\n",
       "       [ 724,   11],\n",
       "       [ 828,   41],\n",
       "       [ 633,   23],\n",
       "       [ 783,   18],\n",
       "       [ 635,   36],\n",
       "       [ 525,   33],\n",
       "       [ 636,   24],\n",
       "       [ 813,   15],\n",
       "       [ 736,   44],\n",
       "       [ 833,   13],\n",
       "       [ 808,   29],\n",
       "       [ 714,   14],\n",
       "       [ 806,   28],\n",
       "       [ 681,   31],\n",
       "       [ 661,   35],\n",
       "       [ 546,   32],\n",
       "       [ 759,   10],\n",
       "       [ 803,   21],\n",
       "       [ 670,   22],\n",
       "       [ 796,   21],\n",
       "       [ 665,   32],\n",
       "       [ 687,   11],\n",
       "       [ 573,   13],\n",
       "       [ 812,   38],\n",
       "       [ 698,   45],\n",
       "       [ 675,   39],\n",
       "       [ 700,   38],\n",
       "       [ 749,   38],\n",
       "       [ 537,   44],\n",
       "       [ 748,   27],\n",
       "       [ 824,   37],\n",
       "       [ 839,   29],\n",
       "       [ 740,   31],\n",
       "       [ 533,   42],\n",
       "       [ 775,   40],\n",
       "       [ 663,   24],\n",
       "       [ 639,   14],\n",
       "       [ 612,   31],\n",
       "       [ 580,   14],\n",
       "       [ 632,   14],\n",
       "       [ 535,   17],\n",
       "       [ 818,   15],\n",
       "       [ 503,   44],\n",
       "       [ 788,   12],\n",
       "       [ 513,   27],\n",
       "       [ 729,   41],\n",
       "       [ 659,   29],\n",
       "       [ 629,   41],\n",
       "       [ 641,   35],\n",
       "       [ 676,   30],\n",
       "       [ 739,   14],\n",
       "       [ 773,   20],\n",
       "       [ 792,   15],\n",
       "       [ 509,   19],\n",
       "       [ 682,   40],\n",
       "       [ 637,   29],\n",
       "       [ 769,   13],\n",
       "       [ 611,   12],\n",
       "       [ 574,   32],\n",
       "       [ 623,   32],\n",
       "       [ 539,   26],\n",
       "       [ 595,   30],\n",
       "       [ 683,   39],\n",
       "       [ 760,   18],\n",
       "       [ 697,   25],\n",
       "       [ 766,   39],\n",
       "       [ 768,   17],\n",
       "       [ 734,   16],\n",
       "       [ 579,   45],\n",
       "       [ 737,   34],\n",
       "       [ 699,   22],\n",
       "       [ 757,   43],\n",
       "       [ 624,   15],\n",
       "       [ 545,   29],\n",
       "       [ 850,   16],\n",
       "       [ 722,   26],\n",
       "       [ 795,   15],\n",
       "       [ 817,   18],\n",
       "       [ 830,   44],\n",
       "       [ 843,   41],\n",
       "       [ 553,   35],\n",
       "       [ 837,   30],\n",
       "       [ 588,   18],\n",
       "       [ 733,   26],\n",
       "       [  89,   42],\n",
       "       [  76,   35],\n",
       "       [ 434,   19],\n",
       "       [ 487,   16],\n",
       "       [ 493,   18],\n",
       "       [ 421,   39],\n",
       "       [ 379,   23],\n",
       "       [ 177,   12],\n",
       "       [ 482,   27],\n",
       "       [ 168,   10],\n",
       "       [ 208,   39],\n",
       "       [ 162,   29],\n",
       "       [ 306,   25],\n",
       "       [ 394,   27],\n",
       "       [ 184,   29],\n",
       "       [ 429,   17],\n",
       "       [  81,   20],\n",
       "       [ 158,   17],\n",
       "       [ 435,   10],\n",
       "       [ 401,   17],\n",
       "       [ 271,   33],\n",
       "       [ 161,   18],\n",
       "       [ 124,   40],\n",
       "       [  26,   23],\n",
       "       [ 175,   15],\n",
       "       [ 293,   25],\n",
       "       [ 354,   20],\n",
       "       [ 245,   43],\n",
       "       [ 462,   32],\n",
       "       [ 466,   41],\n",
       "       [  75,   37],\n",
       "       [ 209,   43],\n",
       "       [ 304,   43],\n",
       "       [ 256,   40],\n",
       "       [ 141,   43],\n",
       "       [ 302,   23],\n",
       "       [  87,   12],\n",
       "       [  72,   13],\n",
       "       [   4,   42],\n",
       "       [ 178,   39],\n",
       "       [  36,   16],\n",
       "       [  39,   38],\n",
       "       [ 107,   31],\n",
       "       [  21,   37],\n",
       "       [  59,   20],\n",
       "       [ 206,   37],\n",
       "       [ 143,   43],\n",
       "       [  52,   44],\n",
       "       [ 149,   24],\n",
       "       [  74,   20],\n",
       "       [ 861,   33],\n",
       "       [ 938,   14],\n",
       "       [ 981,   36],\n",
       "       [1019,   37],\n",
       "       [ 876,   40],\n",
       "       [1020,   27],\n",
       "       [ 933,   42],\n",
       "       [ 889,   39],\n",
       "       [ 865,   17],\n",
       "       [ 920,   10],\n",
       "       [ 926,   18],\n",
       "       [ 923,   10],\n",
       "       [ 853,   29],\n",
       "       [ 922,   23],\n",
       "       [ 998,   28],\n",
       "       [ 966,   16],\n",
       "       [ 950,   13],\n",
       "       [1001,   36],\n",
       "       [ 930,   18],\n",
       "       [ 999,   30],\n",
       "       [ 873,   44],\n",
       "       [ 969,   39],\n",
       "       [ 881,   26],\n",
       "       [ 896,   42],\n",
       "       [ 857,   20],\n",
       "       [1010,   10],\n",
       "       [ 947,   41],\n",
       "       [ 859,   20],\n",
       "       [1005,   43],\n",
       "       [ 937,   28],\n",
       "       [ 893,   39],\n",
       "       [ 872,   10],\n",
       "       [ 878,   29],\n",
       "       [ 883,   40],\n",
       "       [ 888,   44],\n",
       "       [1009,   21],\n",
       "       [ 917,   33],\n",
       "       [ 974,   28],\n",
       "       [ 858,   19],\n",
       "       [ 918,   19],\n",
       "       [1021,   22],\n",
       "       [ 986,   36],\n",
       "       [ 968,   17],\n",
       "       [1015,   35],\n",
       "       [ 914,   35],\n",
       "       [ 941,   13],\n",
       "       [ 902,   45],\n",
       "       [ 894,   42],\n",
       "       [1022,   45],\n",
       "       [ 979,   10]], dtype=int64)"
      ]
     },
     "execution_count": 26,
     "metadata": {},
     "output_type": "execute_result"
    }
   ],
   "source": [
    "x=df.iloc[:,1:3].values\n",
    "x"
   ]
  },
  {
   "cell_type": "code",
   "execution_count": 27,
   "id": "25c8f877",
   "metadata": {},
   "outputs": [
    {
     "data": {
      "text/plain": [
       "array([1, 1, 1, 1, 1, 1, 1, 1, 1, 1, 1, 1, 1, 1, 1, 1, 1, 1, 1, 1, 1, 1,\n",
       "       1, 1, 1, 1, 1, 1, 1, 1, 1, 1, 1, 1, 1, 1, 1, 1, 1, 1, 1, 1, 1, 1,\n",
       "       1, 1, 1, 1, 1, 1, 1, 1, 1, 1, 1, 1, 1, 1, 1, 1, 1, 1, 1, 1, 1, 1,\n",
       "       1, 1, 1, 1, 1, 1, 1, 1, 1, 1, 1, 1, 1, 1, 1, 1, 1, 1, 1, 1, 1, 1,\n",
       "       1, 1, 1, 1, 1, 1, 1, 1, 1, 1, 1, 1, 0, 0, 0, 0, 0, 0, 0, 0, 0, 0,\n",
       "       0, 0, 0, 0, 0, 0, 0, 0, 0, 0, 0, 0, 0, 0, 0, 0, 0, 0, 0, 0, 0, 0,\n",
       "       0, 0, 0, 0, 0, 0, 0, 0, 0, 0, 0, 0, 0, 0, 0, 0, 0, 0, 1, 1, 1, 1,\n",
       "       1, 1, 1, 1, 1, 1, 1, 1, 1, 1, 1, 1, 1, 1, 1, 1, 1, 1, 1, 1, 1, 1,\n",
       "       1, 1, 1, 1, 1, 1, 1, 1, 1, 1, 1, 1, 1, 1, 1, 1, 1, 1, 1, 1, 1, 1,\n",
       "       1, 1], dtype=int64)"
      ]
     },
     "execution_count": 27,
     "metadata": {},
     "output_type": "execute_result"
    }
   ],
   "source": [
    "y=df.iloc[:,3].values\n",
    "y"
   ]
  },
  {
   "cell_type": "code",
   "execution_count": 28,
   "id": "d50fee3a",
   "metadata": {},
   "outputs": [
    {
     "data": {
      "text/html": [
       "<div>\n",
       "<style scoped>\n",
       "    .dataframe tbody tr th:only-of-type {\n",
       "        vertical-align: middle;\n",
       "    }\n",
       "\n",
       "    .dataframe tbody tr th {\n",
       "        vertical-align: top;\n",
       "    }\n",
       "\n",
       "    .dataframe thead th {\n",
       "        text-align: right;\n",
       "    }\n",
       "</style>\n",
       "<table border=\"1\" class=\"dataframe\">\n",
       "  <thead>\n",
       "    <tr style=\"text-align: right;\">\n",
       "      <th></th>\n",
       "      <th>crop</th>\n",
       "      <th>moisture</th>\n",
       "      <th>temp</th>\n",
       "      <th>pump</th>\n",
       "    </tr>\n",
       "  </thead>\n",
       "  <tbody>\n",
       "    <tr>\n",
       "      <th>0</th>\n",
       "      <td>cotton</td>\n",
       "      <td>638</td>\n",
       "      <td>16</td>\n",
       "      <td>1</td>\n",
       "    </tr>\n",
       "    <tr>\n",
       "      <th>1</th>\n",
       "      <td>cotton</td>\n",
       "      <td>522</td>\n",
       "      <td>18</td>\n",
       "      <td>1</td>\n",
       "    </tr>\n",
       "    <tr>\n",
       "      <th>2</th>\n",
       "      <td>cotton</td>\n",
       "      <td>741</td>\n",
       "      <td>22</td>\n",
       "      <td>1</td>\n",
       "    </tr>\n",
       "    <tr>\n",
       "      <th>3</th>\n",
       "      <td>cotton</td>\n",
       "      <td>798</td>\n",
       "      <td>32</td>\n",
       "      <td>1</td>\n",
       "    </tr>\n",
       "    <tr>\n",
       "      <th>4</th>\n",
       "      <td>cotton</td>\n",
       "      <td>690</td>\n",
       "      <td>28</td>\n",
       "      <td>1</td>\n",
       "    </tr>\n",
       "    <tr>\n",
       "      <th>...</th>\n",
       "      <td>...</td>\n",
       "      <td>...</td>\n",
       "      <td>...</td>\n",
       "      <td>...</td>\n",
       "    </tr>\n",
       "    <tr>\n",
       "      <th>195</th>\n",
       "      <td>cotton</td>\n",
       "      <td>941</td>\n",
       "      <td>13</td>\n",
       "      <td>1</td>\n",
       "    </tr>\n",
       "    <tr>\n",
       "      <th>196</th>\n",
       "      <td>cotton</td>\n",
       "      <td>902</td>\n",
       "      <td>45</td>\n",
       "      <td>1</td>\n",
       "    </tr>\n",
       "    <tr>\n",
       "      <th>197</th>\n",
       "      <td>cotton</td>\n",
       "      <td>894</td>\n",
       "      <td>42</td>\n",
       "      <td>1</td>\n",
       "    </tr>\n",
       "    <tr>\n",
       "      <th>198</th>\n",
       "      <td>cotton</td>\n",
       "      <td>1022</td>\n",
       "      <td>45</td>\n",
       "      <td>1</td>\n",
       "    </tr>\n",
       "    <tr>\n",
       "      <th>199</th>\n",
       "      <td>cotton</td>\n",
       "      <td>979</td>\n",
       "      <td>10</td>\n",
       "      <td>1</td>\n",
       "    </tr>\n",
       "  </tbody>\n",
       "</table>\n",
       "<p>200 rows × 4 columns</p>\n",
       "</div>"
      ],
      "text/plain": [
       "       crop  moisture  temp  pump\n",
       "0    cotton       638    16     1\n",
       "1    cotton       522    18     1\n",
       "2    cotton       741    22     1\n",
       "3    cotton       798    32     1\n",
       "4    cotton       690    28     1\n",
       "..      ...       ...   ...   ...\n",
       "195  cotton       941    13     1\n",
       "196  cotton       902    45     1\n",
       "197  cotton       894    42     1\n",
       "198  cotton      1022    45     1\n",
       "199  cotton       979    10     1\n",
       "\n",
       "[200 rows x 4 columns]"
      ]
     },
     "execution_count": 28,
     "metadata": {},
     "output_type": "execute_result"
    }
   ],
   "source": [
    "df"
   ]
  },
  {
   "cell_type": "code",
   "execution_count": 29,
   "id": "5ecdac09",
   "metadata": {},
   "outputs": [
    {
     "data": {
      "text/plain": [
       "array([[ 638,   16],\n",
       "       [ 522,   18],\n",
       "       [ 741,   22],\n",
       "       [ 798,   32],\n",
       "       [ 690,   28],\n",
       "       [ 558,   23],\n",
       "       [ 578,   12],\n",
       "       [ 673,   35],\n",
       "       [ 642,   45],\n",
       "       [ 723,   11],\n",
       "       [ 671,   23],\n",
       "       [ 758,   34],\n",
       "       [ 507,   45],\n",
       "       [ 586,   33],\n",
       "       [ 703,   45],\n",
       "       [ 716,   25],\n",
       "       [ 724,   11],\n",
       "       [ 828,   41],\n",
       "       [ 633,   23],\n",
       "       [ 783,   18],\n",
       "       [ 635,   36],\n",
       "       [ 525,   33],\n",
       "       [ 636,   24],\n",
       "       [ 813,   15],\n",
       "       [ 736,   44],\n",
       "       [ 833,   13],\n",
       "       [ 808,   29],\n",
       "       [ 714,   14],\n",
       "       [ 806,   28],\n",
       "       [ 681,   31],\n",
       "       [ 661,   35],\n",
       "       [ 546,   32],\n",
       "       [ 759,   10],\n",
       "       [ 803,   21],\n",
       "       [ 670,   22],\n",
       "       [ 796,   21],\n",
       "       [ 665,   32],\n",
       "       [ 687,   11],\n",
       "       [ 573,   13],\n",
       "       [ 812,   38],\n",
       "       [ 698,   45],\n",
       "       [ 675,   39],\n",
       "       [ 700,   38],\n",
       "       [ 749,   38],\n",
       "       [ 537,   44],\n",
       "       [ 748,   27],\n",
       "       [ 824,   37],\n",
       "       [ 839,   29],\n",
       "       [ 740,   31],\n",
       "       [ 533,   42],\n",
       "       [ 775,   40],\n",
       "       [ 663,   24],\n",
       "       [ 639,   14],\n",
       "       [ 612,   31],\n",
       "       [ 580,   14],\n",
       "       [ 632,   14],\n",
       "       [ 535,   17],\n",
       "       [ 818,   15],\n",
       "       [ 503,   44],\n",
       "       [ 788,   12],\n",
       "       [ 513,   27],\n",
       "       [ 729,   41],\n",
       "       [ 659,   29],\n",
       "       [ 629,   41],\n",
       "       [ 641,   35],\n",
       "       [ 676,   30],\n",
       "       [ 739,   14],\n",
       "       [ 773,   20],\n",
       "       [ 792,   15],\n",
       "       [ 509,   19],\n",
       "       [ 682,   40],\n",
       "       [ 637,   29],\n",
       "       [ 769,   13],\n",
       "       [ 611,   12],\n",
       "       [ 574,   32],\n",
       "       [ 623,   32],\n",
       "       [ 539,   26],\n",
       "       [ 595,   30],\n",
       "       [ 683,   39],\n",
       "       [ 760,   18],\n",
       "       [ 697,   25],\n",
       "       [ 766,   39],\n",
       "       [ 768,   17],\n",
       "       [ 734,   16],\n",
       "       [ 579,   45],\n",
       "       [ 737,   34],\n",
       "       [ 699,   22],\n",
       "       [ 757,   43],\n",
       "       [ 624,   15],\n",
       "       [ 545,   29],\n",
       "       [ 850,   16],\n",
       "       [ 722,   26],\n",
       "       [ 795,   15],\n",
       "       [ 817,   18],\n",
       "       [ 830,   44],\n",
       "       [ 843,   41],\n",
       "       [ 553,   35],\n",
       "       [ 837,   30],\n",
       "       [ 588,   18],\n",
       "       [ 733,   26],\n",
       "       [  89,   42],\n",
       "       [  76,   35],\n",
       "       [ 434,   19],\n",
       "       [ 487,   16],\n",
       "       [ 493,   18],\n",
       "       [ 421,   39],\n",
       "       [ 379,   23],\n",
       "       [ 177,   12],\n",
       "       [ 482,   27],\n",
       "       [ 168,   10],\n",
       "       [ 208,   39],\n",
       "       [ 162,   29],\n",
       "       [ 306,   25],\n",
       "       [ 394,   27],\n",
       "       [ 184,   29],\n",
       "       [ 429,   17],\n",
       "       [  81,   20],\n",
       "       [ 158,   17],\n",
       "       [ 435,   10],\n",
       "       [ 401,   17],\n",
       "       [ 271,   33],\n",
       "       [ 161,   18],\n",
       "       [ 124,   40],\n",
       "       [  26,   23],\n",
       "       [ 175,   15],\n",
       "       [ 293,   25],\n",
       "       [ 354,   20],\n",
       "       [ 245,   43],\n",
       "       [ 462,   32],\n",
       "       [ 466,   41],\n",
       "       [  75,   37],\n",
       "       [ 209,   43],\n",
       "       [ 304,   43],\n",
       "       [ 256,   40],\n",
       "       [ 141,   43],\n",
       "       [ 302,   23],\n",
       "       [  87,   12],\n",
       "       [  72,   13],\n",
       "       [   4,   42],\n",
       "       [ 178,   39],\n",
       "       [  36,   16],\n",
       "       [  39,   38],\n",
       "       [ 107,   31],\n",
       "       [  21,   37],\n",
       "       [  59,   20],\n",
       "       [ 206,   37],\n",
       "       [ 143,   43],\n",
       "       [  52,   44],\n",
       "       [ 149,   24],\n",
       "       [  74,   20],\n",
       "       [ 861,   33],\n",
       "       [ 938,   14],\n",
       "       [ 981,   36],\n",
       "       [1019,   37],\n",
       "       [ 876,   40],\n",
       "       [1020,   27],\n",
       "       [ 933,   42],\n",
       "       [ 889,   39],\n",
       "       [ 865,   17],\n",
       "       [ 920,   10],\n",
       "       [ 926,   18],\n",
       "       [ 923,   10],\n",
       "       [ 853,   29],\n",
       "       [ 922,   23],\n",
       "       [ 998,   28],\n",
       "       [ 966,   16],\n",
       "       [ 950,   13],\n",
       "       [1001,   36],\n",
       "       [ 930,   18],\n",
       "       [ 999,   30],\n",
       "       [ 873,   44],\n",
       "       [ 969,   39],\n",
       "       [ 881,   26],\n",
       "       [ 896,   42],\n",
       "       [ 857,   20],\n",
       "       [1010,   10],\n",
       "       [ 947,   41],\n",
       "       [ 859,   20],\n",
       "       [1005,   43],\n",
       "       [ 937,   28],\n",
       "       [ 893,   39],\n",
       "       [ 872,   10],\n",
       "       [ 878,   29],\n",
       "       [ 883,   40],\n",
       "       [ 888,   44],\n",
       "       [1009,   21],\n",
       "       [ 917,   33],\n",
       "       [ 974,   28],\n",
       "       [ 858,   19],\n",
       "       [ 918,   19],\n",
       "       [1021,   22],\n",
       "       [ 986,   36],\n",
       "       [ 968,   17],\n",
       "       [1015,   35],\n",
       "       [ 914,   35],\n",
       "       [ 941,   13],\n",
       "       [ 902,   45],\n",
       "       [ 894,   42],\n",
       "       [1022,   45],\n",
       "       [ 979,   10]], dtype=int64)"
      ]
     },
     "execution_count": 29,
     "metadata": {},
     "output_type": "execute_result"
    }
   ],
   "source": [
    "x"
   ]
  },
  {
   "cell_type": "code",
   "execution_count": 30,
   "id": "f5f85fcc",
   "metadata": {},
   "outputs": [
    {
     "data": {
      "text/plain": [
       "array([1, 1, 1, 1, 1, 1, 1, 1, 1, 1, 1, 1, 1, 1, 1, 1, 1, 1, 1, 1, 1, 1,\n",
       "       1, 1, 1, 1, 1, 1, 1, 1, 1, 1, 1, 1, 1, 1, 1, 1, 1, 1, 1, 1, 1, 1,\n",
       "       1, 1, 1, 1, 1, 1, 1, 1, 1, 1, 1, 1, 1, 1, 1, 1, 1, 1, 1, 1, 1, 1,\n",
       "       1, 1, 1, 1, 1, 1, 1, 1, 1, 1, 1, 1, 1, 1, 1, 1, 1, 1, 1, 1, 1, 1,\n",
       "       1, 1, 1, 1, 1, 1, 1, 1, 1, 1, 1, 1, 0, 0, 0, 0, 0, 0, 0, 0, 0, 0,\n",
       "       0, 0, 0, 0, 0, 0, 0, 0, 0, 0, 0, 0, 0, 0, 0, 0, 0, 0, 0, 0, 0, 0,\n",
       "       0, 0, 0, 0, 0, 0, 0, 0, 0, 0, 0, 0, 0, 0, 0, 0, 0, 0, 1, 1, 1, 1,\n",
       "       1, 1, 1, 1, 1, 1, 1, 1, 1, 1, 1, 1, 1, 1, 1, 1, 1, 1, 1, 1, 1, 1,\n",
       "       1, 1, 1, 1, 1, 1, 1, 1, 1, 1, 1, 1, 1, 1, 1, 1, 1, 1, 1, 1, 1, 1,\n",
       "       1, 1], dtype=int64)"
      ]
     },
     "execution_count": 30,
     "metadata": {},
     "output_type": "execute_result"
    }
   ],
   "source": [
    "y"
   ]
  },
  {
   "cell_type": "code",
   "execution_count": 31,
   "id": "006d81f3",
   "metadata": {},
   "outputs": [
    {
     "data": {
      "image/png": "[encoded data removed]",
      "text/plain": [
       "<Figure size 640x480 with 1 Axes>"
      ]
     },
     "metadata": {},
     "output_type": "display_data"
    }
   ],
   "source": [
    "import matplotlib.pyplot as plt\n",
    "plt.scatter(x[y==0,0],x[y==0,1],c='red', s=50,label=\"no pump\")\n",
    "plt.scatter(x[y==1,0],x[y==1,1],c='blue', s=50,label=\"pump\")\n",
    "plt.xlabel(\"Moisture\")\n",
    "plt.ylabel(\"Temperature\")\n",
    "plt.title(\"Irrigation data\")\n",
    "plt.show()"
   ]
  },
  {
   "cell_type": "code",
   "execution_count": 32,
   "id": "01bdfe1e",
   "metadata": {},
   "outputs": [],
   "source": [
    "from sklearn.model_selection import train_test_split\n",
    "x_train,x_test,y_train,y_test=train_test_split(x,y,test_size=.2,\n",
    "                                               random_state=0)"
   ]
  },
  {
   "cell_type": "code",
   "execution_count": 33,
   "id": "eb94aec9",
   "metadata": {},
   "outputs": [
    {
     "data": {
      "text/plain": [
       "(160, 2)"
      ]
     },
     "execution_count": 33,
     "metadata": {},
     "output_type": "execute_result"
    }
   ],
   "source": [
    "x_train.shape"
   ]
  },
  {
   "cell_type": "code",
   "execution_count": 34,
   "id": "f6ae477b",
   "metadata": {},
   "outputs": [
    {
     "data": {
      "text/plain": [
       "(40, 2)"
      ]
     },
     "execution_count": 34,
     "metadata": {},
     "output_type": "execute_result"
    }
   ],
   "source": [
    "x_test.shape"
   ]
  },
  {
   "cell_type": "code",
   "execution_count": 35,
   "id": "26963aa1",
   "metadata": {},
   "outputs": [
    {
     "data": {
      "text/html": [
       "<style>#sk-container-id-2 {color: black;background-color: white;}#sk-container-id-2 pre{padding: 0;}#sk-container-id-2 div.sk-toggleable {background-color: white;}#sk-container-id-2 label.sk-toggleable__label {cursor: pointer;display: block;width: 100%;margin-bottom: 0;padding: 0.3em;box-sizing: border-box;text-align: center;}#sk-container-id-2 label.sk-toggleable__label-arrow:before {content: \"▸\";float: left;margin-right: 0.25em;color: #696969;}#sk-container-id-2 label.sk-toggleable__label-arrow:hover:before {color: black;}#sk-container-id-2 div.sk-estimator:hover label.sk-toggleable__label-arrow:before {color: black;}#sk-container-id-2 div.sk-toggleable__content {max-height: 0;max-width: 0;overflow: hidden;text-align: left;background-color: #f0f8ff;}#sk-container-id-2 div.sk-toggleable__content pre {margin: 0.2em;color: black;border-radius: 0.25em;background-color: #f0f8ff;}#sk-container-id-2 input.sk-toggleable__control:checked~div.sk-toggleable__content {max-height: 200px;max-width: 100%;overflow: auto;}#sk-container-id-2 input.sk-toggleable__control:checked~label.sk-toggleable__label-arrow:before {content: \"▾\";}#sk-container-id-2 div.sk-estimator input.sk-toggleable__control:checked~label.sk-toggleable__label {background-color: #d4ebff;}#sk-container-id-2 div.sk-label input.sk-toggleable__control:checked~label.sk-toggleable__label {background-color: #d4ebff;}#sk-container-id-2 input.sk-hidden--visually {border: 0;clip: rect(1px 1px 1px 1px);clip: rect(1px, 1px, 1px, 1px);height: 1px;margin: -1px;overflow: hidden;padding: 0;position: absolute;width: 1px;}#sk-container-id-2 div.sk-estimator {font-family: monospace;background-color: #f0f8ff;border: 1px dotted black;border-radius: 0.25em;box-sizing: border-box;margin-bottom: 0.5em;}#sk-container-id-2 div.sk-estimator:hover {background-color: #d4ebff;}#sk-container-id-2 div.sk-parallel-item::after {content: \"\";width: 100%;border-bottom: 1px solid gray;flex-grow: 1;}#sk-container-id-2 div.sk-label:hover label.sk-toggleable__label {background-color: #d4ebff;}#sk-container-id-2 div.sk-serial::before {content: \"\";position: absolute;border-left: 1px solid gray;box-sizing: border-box;top: 0;bottom: 0;left: 50%;z-index: 0;}#sk-container-id-2 div.sk-serial {display: flex;flex-direction: column;align-items: center;background-color: white;padding-right: 0.2em;padding-left: 0.2em;position: relative;}#sk-container-id-2 div.sk-item {position: relative;z-index: 1;}#sk-container-id-2 div.sk-parallel {display: flex;align-items: stretch;justify-content: center;background-color: white;position: relative;}#sk-container-id-2 div.sk-item::before, #sk-container-id-2 div.sk-parallel-item::before {content: \"\";position: absolute;border-left: 1px solid gray;box-sizing: border-box;top: 0;bottom: 0;left: 50%;z-index: -1;}#sk-container-id-2 div.sk-parallel-item {display: flex;flex-direction: column;z-index: 1;position: relative;background-color: white;}#sk-container-id-2 div.sk-parallel-item:first-child::after {align-self: flex-end;width: 50%;}#sk-container-id-2 div.sk-parallel-item:last-child::after {align-self: flex-start;width: 50%;}#sk-container-id-2 div.sk-parallel-item:only-child::after {width: 0;}#sk-container-id-2 div.sk-dashed-wrapped {border: 1px dashed gray;margin: 0 0.4em 0.5em 0.4em;box-sizing: border-box;padding-bottom: 0.4em;background-color: white;}#sk-container-id-2 div.sk-label label {font-family: monospace;font-weight: bold;display: inline-block;line-height: 1.2em;}#sk-container-id-2 div.sk-label-container {text-align: center;}#sk-container-id-2 div.sk-container {/* jupyter's `normalize.less` sets `[hidden] { display: none; }` but bootstrap.min.css set `[hidden] { display: none !important; }` so we also need the `!important` here to be able to override the default hidden behavior on the sphinx rendered scikit-learn.org. See: https://github.com/scikit-learn/scikit-learn/issues/21755 */display: inline-block !important;position: relative;}#sk-container-id-2 div.sk-text-repr-fallback {display: none;}</style><div id=\"sk-container-id-2\" class=\"sk-top-container\"><div class=\"sk-text-repr-fallback\"><pre>KNeighborsClassifier()</pre><b>In a Jupyter environment, please rerun this cell to show the HTML representation or trust the notebook. <br />On GitHub, the HTML representation is unable to render, please try loading this page with nbviewer.org.</b></div><div class=\"sk-container\" hidden><div class=\"sk-item\"><div class=\"sk-estimator sk-toggleable\"><input class=\"sk-toggleable__control sk-hidden--visually\" id=\"sk-estimator-id-2\" type=\"checkbox\" checked><label for=\"sk-estimator-id-2\" class=\"sk-toggleable__label sk-toggleable__label-arrow\">KNeighborsClassifier</label><div class=\"sk-toggleable__content\"><pre>KNeighborsClassifier()</pre></div></div></div></div></div>"
      ],
      "text/plain": [
       "KNeighborsClassifier()"
      ]
     },
     "execution_count": 35,
     "metadata": {},
     "output_type": "execute_result"
    }
   ],
   "source": [
    "from sklearn.neighbors import KNeighborsClassifier\n",
    "knn_model=KNeighborsClassifier()\n",
    "knn_model.fit(x_train,y_train)"
   ]
  },
  {
   "cell_type": "code",
   "execution_count": 36,
   "id": "ceb3468a",
   "metadata": {},
   "outputs": [
    {
     "data": {
      "text/plain": [
       "array([[ 633,   23],\n",
       "       [ 873,   44],\n",
       "       [ 177,   12],\n",
       "       [ 588,   18],\n",
       "       [ 859,   20],\n",
       "       [ 878,   29],\n",
       "       [ 558,   23],\n",
       "       [ 143,   43],\n",
       "       [ 507,   45],\n",
       "       [ 981,   36],\n",
       "       [ 729,   41],\n",
       "       [ 293,   25],\n",
       "       [ 893,   39],\n",
       "       [ 876,   40],\n",
       "       [ 697,   25],\n",
       "       [ 673,   35],\n",
       "       [ 803,   21],\n",
       "       [  75,   37],\n",
       "       [ 687,   11],\n",
       "       [ 574,   32],\n",
       "       [ 883,   40],\n",
       "       [ 206,   37],\n",
       "       [ 748,   27],\n",
       "       [ 920,   10],\n",
       "       [ 513,   27],\n",
       "       [  26,   23],\n",
       "       [ 937,   28],\n",
       "       [1009,   21],\n",
       "       [ 124,   40],\n",
       "       [ 537,   44],\n",
       "       [ 724,   11],\n",
       "       [ 632,   14],\n",
       "       [ 861,   33],\n",
       "       [ 162,   29],\n",
       "       [ 636,   24],\n",
       "       [ 918,   19],\n",
       "       [ 466,   41],\n",
       "       [ 690,   28],\n",
       "       [ 734,   16],\n",
       "       [ 379,   23]], dtype=int64)"
      ]
     },
     "execution_count": 36,
     "metadata": {},
     "output_type": "execute_result"
    }
   ],
   "source": [
    "x_test"
   ]
  },
  {
   "cell_type": "code",
   "execution_count": 37,
   "id": "8ffa8790",
   "metadata": {},
   "outputs": [],
   "source": [
    "y_pred=knn_model.predict(x_test)"
   ]
  },
  {
   "cell_type": "code",
   "execution_count": 38,
   "id": "e792c9c5",
   "metadata": {},
   "outputs": [
    {
     "data": {
      "text/plain": [
       "array([1, 1, 0, 1, 1, 1, 1, 0, 1, 1, 1, 0, 1, 1, 1, 1, 1, 0, 1, 1, 1, 0,\n",
       "       1, 1, 1, 0, 1, 1, 0, 1, 1, 1, 1, 0, 1, 1, 0, 1, 1, 0], dtype=int64)"
      ]
     },
     "execution_count": 38,
     "metadata": {},
     "output_type": "execute_result"
    }
   ],
   "source": [
    "y_pred"
   ]
  },
  {
   "cell_type": "code",
   "execution_count": 39,
   "id": "09e5f481",
   "metadata": {},
   "outputs": [
    {
     "data": {
      "text/plain": [
       "array([1, 1, 0, 1, 1, 1, 1, 0, 1, 1, 1, 0, 1, 1, 1, 1, 1, 0, 1, 1, 1, 0,\n",
       "       1, 1, 1, 0, 1, 1, 0, 1, 1, 1, 1, 0, 1, 1, 0, 1, 1, 0], dtype=int64)"
      ]
     },
     "execution_count": 39,
     "metadata": {},
     "output_type": "execute_result"
    }
   ],
   "source": [
    "y_test"
   ]
  },
  {
   "cell_type": "code",
   "execution_count": 40,
   "id": "f0677d5b",
   "metadata": {},
   "outputs": [
    {
     "data": {
      "text/plain": [
       "1.0"
      ]
     },
     "execution_count": 40,
     "metadata": {},
     "output_type": "execute_result"
    }
   ],
   "source": [
    "from sklearn.metrics import accuracy_score\n",
    "accuracy_score(y_test,y_pred)"
   ]
  },
  {
   "cell_type": "code",
   "execution_count": 42,
   "id": "4c65089b",
   "metadata": {},
   "outputs": [
    {
     "data": {
      "text/plain": [
       "array([0], dtype=int64)"
      ]
     },
     "execution_count": 42,
     "metadata": {},
     "output_type": "execute_result"
    }
   ],
   "source": [
    "knn_model.predict([[419,17]])"
   ]
  },
  {
   "cell_type": "code",
   "execution_count": 43,
   "id": "5d4977cd",
   "metadata": {},
   "outputs": [
    {
     "data": {
      "text/plain": [
       "array([1], dtype=int64)"
      ]
     },
     "execution_count": 43,
     "metadata": {},
     "output_type": "execute_result"
    }
   ],
   "source": [
    "knn_model.predict([[537,44]])"
   ]
  },
  {
   "cell_type": "code",
   "execution_count": 44,
   "id": "f244fd94",
   "metadata": {},
   "outputs": [
    {
     "name": "stdout",
     "output_type": "stream",
     "text": [
      "Accuracy= 0.975\n"
     ]
    }
   ],
   "source": [
    "from sklearn.svm import SVC\n",
    "svc_model=SVC()\n",
    "svc_model.fit(x_train,y_train)\n",
    "y_pred=svc_model.predict(x_test)\n",
    "print(\"Accuracy=\",accuracy_score(y_test,y_pred))"
   ]
  },
  {
   "cell_type": "code",
   "execution_count": 46,
   "id": "0b185ee1",
   "metadata": {},
   "outputs": [
    {
     "name": "stdout",
     "output_type": "stream",
     "text": [
      "Accuracy= 0.975\n"
     ]
    }
   ],
   "source": [
    "from sklearn.naive_bayes import GaussianNB\n",
    "nb_model=GaussianNB()\n",
    "nb_model.fit(x_train,y_train)\n",
    "y_pred=nb_model.predict(x_test)\n",
    "print(\"Accuracy=\",accuracy_score(y_test,y_pred))"
   ]
  },
  {
   "cell_type": "code",
   "execution_count": null,
   "id": "b3c66084",
   "metadata": {},
   "outputs": [],
   "source": []
  }
 ],
 "metadata": {
  "kernelspec": {
   "display_name": "Python 3 (ipykernel)",
   "language": "python",
   "name": "python3"
  },
  "language_info": {
   "codemirror_mode": {
    "name": "ipython",
    "version": 3
   },
   "file_extension": ".py",
   "mimetype": "text/x-python",
   "name": "python",
   "nbconvert_exporter": "python",
   "pygments_lexer": "ipython3",
   "version": "3.11.4"
  }
 },
 "nbformat": 4,
 "nbformat_minor": 5
}
